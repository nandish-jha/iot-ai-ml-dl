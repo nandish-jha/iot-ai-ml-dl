{
 "cells": [
  {
   "cell_type": "markdown",
   "metadata": {},
   "source": [
    "| Method                           | Noisy Image     | Denoised only   | Denoised and Sharpened |\n",
    "|----------------------------------|-----------------|-----------------|------------------------|\n",
    "| Denoising 1 (Classical Blur)     |     28.76       |     28.46       | 28.79                  |\n",
    "| Denoising 2 (Gaussian Blur)      |     28.76       |     28.98       | 28.79                  |\n",
    "| Denoising 3 (Median Blur)        |     28.76       |     28.82       | 25.79                  |"
   ]
  },
  {
   "cell_type": "code",
   "execution_count": 2,
   "metadata": {},
   "outputs": [
    {
     "name": "stdout",
     "output_type": "stream",
     "text": [
      "Method\t\tPSNR (dB)\n",
      "Noisy image\t\t28.76\n",
      "Denoising method 1\t28.46\n",
      "Denoising method 2\t27.98\n",
      "Denoising method 3\t27.82\n",
      "Denoised and sharpened\t28.79\n"
     ]
    }
   ],
   "source": [
    "import cv2\n",
    "import numpy as np\n",
    "from skimage.metrics import peak_signal_noise_ratio as psnr\n",
    "\n",
    "# Load the original image\n",
    "original_image = cv2.imread(\"Goldhill_2-1.jpg\", cv2.IMREAD_COLOR)\n",
    "\n",
    "# Load the noisy image\n",
    "noisy_image = cv2.imread(\"Goldhill_2noisy.jpg\", cv2.IMREAD_COLOR)\n",
    "\n",
    "# Denoising method 1: Gaussian Blur\n",
    "denoised_gaussian = cv2.GaussianBlur(noisy_image, (5, 5), 0)\n",
    "\n",
    "# Denoising method 2: Median Filter\n",
    "denoised_median = cv2.medianBlur(noisy_image, 5)\n",
    "\n",
    "# Denoising method 3: Non-local Means Denoising\n",
    "denoised_nlm = cv2.fastNlMeansDenoisingColored(noisy_image, None, 10, 10, 7, 21)\n",
    "\n",
    "# Sharpening method: Unsharp Masking\n",
    "def unsharp_masking(image, sigma=1.0, strength=1.5):\n",
    "    blurred = cv2.GaussianBlur(image, (0, 0), sigma)\n",
    "    sharpened = cv2.addWeighted(image, 1.0 + strength, blurred, -strength, 0)\n",
    "    return sharpened\n",
    "\n",
    "sharpened_image = unsharp_masking(denoised_gaussian)  # Applying sharpening on denoised image\n",
    "\n",
    "# Calculate PSNR values\n",
    "psnr_noisy = psnr(original_image, noisy_image)\n",
    "psnr_gaussian = psnr(original_image, denoised_gaussian)\n",
    "psnr_median = psnr(original_image, denoised_median)\n",
    "psnr_nlm = psnr(original_image, denoised_nlm)\n",
    "psnr_sharpened = psnr(original_image, sharpened_image)\n",
    "\n",
    "# Print results table\n",
    "print(\"Method\\t\\tPSNR (dB)\")\n",
    "print(\"Noisy image\\t\\t{:.2f}\".format(psnr_noisy))\n",
    "print(\"Denoising method 1\\t{:.2f}\".format(psnr_gaussian))\n",
    "print(\"Denoising method 2\\t{:.2f}\".format(psnr_median))\n",
    "print(\"Denoising method 3\\t{:.2f}\".format(psnr_nlm))\n",
    "print(\"Denoised and sharpened\\t{:.2f}\".format(psnr_sharpened))\n"
   ]
  }
 ],
 "metadata": {
  "kernelspec": {
   "display_name": "Python 3",
   "language": "python",
   "name": "python3"
  },
  "language_info": {
   "codemirror_mode": {
    "name": "ipython",
    "version": 3
   },
   "file_extension": ".py",
   "mimetype": "text/x-python",
   "name": "python",
   "nbconvert_exporter": "python",
   "pygments_lexer": "ipython3",
   "version": "3.12.2"
  }
 },
 "nbformat": 4,
 "nbformat_minor": 2
}
