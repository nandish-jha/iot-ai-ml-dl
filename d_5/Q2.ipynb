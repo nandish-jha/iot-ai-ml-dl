{
 "cells": [
  {
   "cell_type": "markdown",
   "metadata": {},
   "source": [
    "## I did this question in 2 parts\n",
    "\n",
    "### Part 1: Image is Original\n",
    "Here, with the thresholding metrics that were used, I got **81** birds detected.\n",
    "\n",
    "### Part 2: Image is Sharpened\n",
    "Here, with the same metrics, I got **83** birds detected. That is the correct amount."
   ]
  },
  {
   "cell_type": "code",
   "execution_count": 80,
   "metadata": {},
   "outputs": [],
   "source": [
    "# part 1: image is original\n",
    "import cv2\n",
    "import numpy as np\n",
    "\n",
    "# Read the image\n",
    "image = cv2.imread('birds_lake.jpg')\n",
    "image = image[30:390, 160:470]\n",
    "resized_img = cv2.resize (image, (int(image.shape[1]*2), int(image.shape[0]*2)))\n",
    "\n",
    "# Convert to grayscale\n",
    "gray = cv2.cvtColor(image, cv2.COLOR_BGR2GRAY)\n",
    "\n",
    "# Apply Gaussian blur to reduce noise\n",
    "blur = cv2.GaussianBlur(gray, (5, 5), 0)\n",
    "\n",
    "# Apply inverse thresholding\n",
    "_, thresh = cv2.threshold(blur, 85, 255, cv2.THRESH_BINARY_INV)\n",
    "\n",
    "# Find contours\n",
    "contours, _ = cv2.findContours(thresh, cv2.RETR_EXTERNAL, cv2.CHAIN_APPROX_SIMPLE)\n",
    "\n",
    "# Iterate through contours and draw rectangles\n",
    "bird_count = 0\n",
    "for contour in contours:\n",
    "    area = cv2.contourArea(contour)\n",
    "    if area > 20:  # Adjust this threshold according to your image\n",
    "        x, y, w, h = cv2.boundingRect(contour)\n",
    "        cv2.rectangle(image, (x, y), (x + w, y + h), (0, 255, 0), 2)\n",
    "        bird_count += 1\n",
    "\n",
    "# Display the result\n",
    "cv2.putText(image, f'Original: {bird_count}', (20, 40), cv2.FONT_HERSHEY_SIMPLEX, 1, (0, 0, 255), 2)\n",
    "cv2.imshow('Birds Detected', image) # total 83 birds detected by me humanly\n",
    "cv2.waitKey(0)\n",
    "cv2.destroyAllWindows()\n"
   ]
  },
  {
   "cell_type": "code",
   "execution_count": 81,
   "metadata": {},
   "outputs": [],
   "source": [
    "# part 2: image is sharpened\n",
    "import cv2\n",
    "import numpy as np\n",
    "\n",
    "# Read the image\n",
    "image = cv2.imread('birds_lake.jpg')\n",
    "image = image[30:390, 160:470]\n",
    "resized_img = cv2.resize(image, (int(image.shape[1]*2), int(image.shape[0]*2)))\n",
    "\n",
    "# Sharpen the resized image\n",
    "kernel_sharpening = np.array([[-1,-1,-1], [-1,9,-1], [-1,-1,-1]])\n",
    "sharpened_img = cv2.filter2D(resized_img, -1, kernel_sharpening)\n",
    "\n",
    "# Convert to grayscale\n",
    "gray = cv2.cvtColor(sharpened_img, cv2.COLOR_BGR2GRAY)\n",
    "\n",
    "# Apply Gaussian blur to reduce noise\n",
    "blur = cv2.GaussianBlur(gray, (5, 5), 0)\n",
    "\n",
    "# Apply inverse thresholding\n",
    "_, thresh = cv2.threshold(blur, 85, 255, cv2.THRESH_BINARY_INV)\n",
    "\n",
    "# Find contours\n",
    "contours, _ = cv2.findContours(thresh, cv2.RETR_EXTERNAL, cv2.CHAIN_APPROX_SIMPLE)\n",
    "\n",
    "# Iterate through contours and draw rectangles\n",
    "bird_count = 0\n",
    "for contour in contours:\n",
    "    area = cv2.contourArea(contour)\n",
    "    if area > 20:  # Adjust this threshold according to your image\n",
    "        x, y, w, h = cv2.boundingRect(contour)\n",
    "        cv2.rectangle(sharpened_img, (x, y), (x + w, y + h), (0, 255, 0), 2)\n",
    "        bird_count += 1\n",
    "\n",
    "# Display the result\n",
    "cv2.putText(sharpened_img, f'Sharpened: {bird_count}', (20, 40), cv2.FONT_HERSHEY_SIMPLEX, 1, (0, 0, 255), 2)\n",
    "cv2.imshow('Birds Detected', sharpened_img) # total 83 birds detected by me humanly\n",
    "cv2.waitKey(0)\n",
    "cv2.destroyAllWindows()\n"
   ]
  }
 ],
 "metadata": {
  "kernelspec": {
   "display_name": "Python 3",
   "language": "python",
   "name": "python3"
  },
  "language_info": {
   "codemirror_mode": {
    "name": "ipython",
    "version": 3
   },
   "file_extension": ".py",
   "mimetype": "text/x-python",
   "name": "python",
   "nbconvert_exporter": "python",
   "pygments_lexer": "ipython3",
   "version": "3.12.2"
  }
 },
 "nbformat": 4,
 "nbformat_minor": 2
}
